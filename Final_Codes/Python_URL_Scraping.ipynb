{
 "cells": [
  {
   "cell_type": "markdown",
   "metadata": {},
   "source": [
    "# Scraping Website URLs \n",
    "\n",
    "---\n",
    "\n",
    "## Configure JAVA ( Windows )\n",
    "\n",
    "1. Check if java is installed by *java -version* in command prompt.\n",
    "\n",
    "2. Install Java:\n",
    "    - I downloaded [OpenJDK]( https://adoptopenjdk.net/) (for open-source JAVA)\n",
    "\n",
    "    - Select your Version (I used OpenJDK 11)\n",
    "\n",
    "    - Download and Install the Installer according to your System Requirements\n",
    "\n",
    "3. Set the PATH Environment Variable.\n",
    "\n",
    "4. Verify Installation by Step 1.\n",
    "\n",
    "---\n",
    "\n",
    "## Install Selenium\n",
    "\n",
    "- Use *pip install selenium*\n",
    "\n",
    "- Download [Edge WebDriver](https://developer.microsoft.com/en-us/microsoft-edge/tools/webdriver/) for your specific version of Microsoft Edge\n",
    "\n",
    "---"
   ]
  },
  {
   "cell_type": "code",
   "execution_count": null,
   "metadata": {},
   "outputs": [],
   "source": [
    "from selenium import webdriver\n",
    "from selenium.webdriver.common.keys import Keys\n",
    "from selenium.webdriver.common.by import By\n",
    "import time"
   ]
  },
  {
   "cell_type": "code",
   "execution_count": null,
   "metadata": {},
   "outputs": [],
   "source": [
    "driver = webdriver.Edge()"
   ]
  },
  {
   "cell_type": "markdown",
   "metadata": {},
   "source": [
    "\n",
    "\n",
    "Enter URL of the Home Page of each Category ( I took Wireless Earbuds Page ) \n",
    "\n"
   ]
  },
  {
   "cell_type": "code",
   "execution_count": null,
   "metadata": {},
   "outputs": [],
   "source": [
    "url = \"https://www.boat-lifestyle.com/collections/true-wireless-earbuds\"\n",
    "driver.get(url)"
   ]
  },
  {
   "cell_type": "markdown",
   "metadata": {},
   "source": [
    "### Code to load the Complete Page\n",
    "\n",
    "---"
   ]
  },
  {
   "cell_type": "code",
   "execution_count": null,
   "metadata": {},
   "outputs": [],
   "source": [
    "prev_page_height = 0\n",
    "while True:\n",
    "    # Scroll to the page at the required height (3.5 times is an observation to locate the loader)\n",
    "    driver.execute_script(\"window.scrollTo(0,document.body.scrollHeight - screen.height*3.5);\")\n",
    "    \n",
    "    # Wait for some time for the page to load more products\n",
    "    time.sleep(3)  # Adjust the sleep time as needed(you may need to increase it as per your browser's speed)\n",
    "    \n",
    "    \n",
    "    # Check if we have reached the end of the page\n",
    "    current_page_height = driver.execute_script(\"return document.body.scrollHeight\")\n",
    "    if current_page_height == prev_page_height:\n",
    "        break\n",
    "    \n",
    "    # Update the previous page height\n",
    "    prev_page_height = current_page_height"
   ]
  },
  {
   "cell_type": "markdown",
   "metadata": {},
   "source": [
    "Scraping by **Selenium**"
   ]
  },
  {
   "cell_type": "code",
   "execution_count": null,
   "metadata": {},
   "outputs": [],
   "source": [
    "product_urls = []\n",
    "product_elements = driver.find_elements(By.CSS_SELECTOR, '.position-relative a')\n",
    "for element in product_elements:\n",
    "    product_urls.append(element.get_attribute('href'))"
   ]
  },
  {
   "cell_type": "code",
   "execution_count": null,
   "metadata": {},
   "outputs": [],
   "source": [
    "product_urls = list(set(product_urls))\n",
    "len(product_urls)\n"
   ]
  },
  {
   "cell_type": "markdown",
   "metadata": {},
   "source": [
    "#### Export in a *.txt file* "
   ]
  },
  {
   "cell_type": "code",
   "execution_count": null,
   "metadata": {},
   "outputs": [],
   "source": [
    "file_path = 'true-wireless-earbuds.txt'"
   ]
  },
  {
   "cell_type": "code",
   "execution_count": null,
   "metadata": {},
   "outputs": [],
   "source": [
    "with open(file_path, 'w') as file:\n",
    "    for url in product_urls:\n",
    "        file.write(url + '\\n')"
   ]
  },
  {
   "cell_type": "code",
   "execution_count": null,
   "metadata": {},
   "outputs": [],
   "source": [
    "driver.quit()"
   ]
  }
 ],
 "metadata": {
  "kernelspec": {
   "display_name": "base",
   "language": "python",
   "name": "python3"
  },
  "language_info": {
   "codemirror_mode": {
    "name": "ipython",
    "version": 3
   },
   "file_extension": ".py",
   "mimetype": "text/x-python",
   "name": "python",
   "nbconvert_exporter": "python",
   "pygments_lexer": "ipython3",
   "version": "3.11.4"
  },
  "orig_nbformat": 4
 },
 "nbformat": 4,
 "nbformat_minor": 2
}
